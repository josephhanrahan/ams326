{
 "cells": [
  {
   "cell_type": "code",
   "execution_count": 1,
   "id": "dd320e1b-4aa9-42d0-98f9-fd279950d1fc",
   "metadata": {},
   "outputs": [],
   "source": [
    "import math\n",
    "import random\n",
    "import numpy as np"
   ]
  },
  {
   "cell_type": "code",
   "execution_count": 2,
   "id": "f8c0fce3-6272-492e-8fb5-3ea50b3ba08d",
   "metadata": {},
   "outputs": [],
   "source": [
    "def f(x):\n",
    "    return math.pow(np.e, math.pow(-x, 3)) - math.pow(x, 4) - np.sin(x)\n",
    "\n",
    "def f_prime(x):\n",
    "    return -3 * math.pow(x, 2) * math.pow(np.e, math.pow(-x, 3)) - 4 * math.pow(x, 3) - np.cos(x)\n",
    "\n",
    "\n",
    "ERR_TOLERANCE = 0.5 * math.pow(10, -4)\n",
    "r = 0.641583"
   ]
  },
  {
   "cell_type": "code",
   "execution_count": 3,
   "id": "70addfb0-077b-495b-8fee-4909757a14af",
   "metadata": {},
   "outputs": [
    {
     "name": "stdout",
     "output_type": "stream",
     "text": [
      "Found r = 0.6416015625 in 10 iterations\n"
     ]
    }
   ],
   "source": [
    "# Method 1: Bisection Method\n",
    "\n",
    "a = -1\n",
    "b = 1\n",
    "x = (a+b) / 2\n",
    "iteration_count = 0\n",
    "\n",
    "while (abs(x - r) >= ERR_TOLERANCE):\n",
    "    if (f(x) > 0):\n",
    "        a = x\n",
    "    else:\n",
    "        b = x\n",
    "\n",
    "    x = (a+b) / 2\n",
    "    iteration_count += 1\n",
    "\n",
    "print(\"Found r = {} in {} iterations\".format(x, iteration_count))"
   ]
  },
  {
   "cell_type": "code",
   "execution_count": 4,
   "id": "ebd76e40-8aad-4335-a593-41e57c489e0c",
   "metadata": {},
   "outputs": [
    {
     "name": "stdout",
     "output_type": "stream",
     "text": [
      "Found r = 0.6415825512515503 in 5 iterations\n"
     ]
    }
   ],
   "source": [
    "# Method 2: Newton's Method\n",
    "\n",
    "x_0 = 0\n",
    "iteration_count = 0\n",
    "while (abs(x_0 - r) >= ERR_TOLERANCE):\n",
    "    x_0 = x_0 - (f(x_0) / f_prime(x_0))\n",
    "    iteration_count += 1\n",
    "\n",
    "print(\"Found r = {} in {} iterations\".format(x_0, iteration_count))"
   ]
  },
  {
   "cell_type": "code",
   "execution_count": 5,
   "id": "096a5493-8967-4f5c-b2fe-088a47b6d758",
   "metadata": {},
   "outputs": [
    {
     "name": "stdout",
     "output_type": "stream",
     "text": [
      "Found r = 0.6415908941839591 in 6 iterations\n"
     ]
    }
   ],
   "source": [
    "# Method 3: Secant Method\n",
    "x_0 = -1\n",
    "x_1 = 1\n",
    "iteration_count = 0\n",
    "while (abs(x_1 - r) >= ERR_TOLERANCE):\n",
    "    x_2 = x_1 - (f(x_1) * ((x_1 - x_0) / (f(x_1) - f(x_0))))\n",
    "    x_0 = x_1\n",
    "    x_1 = x_2\n",
    "    iteration_count += 1\n",
    "\n",
    "print(\"Found r = {} in {} iterations\".format(x_1, iteration_count))"
   ]
  },
  {
   "cell_type": "code",
   "execution_count": 6,
   "id": "28aa80c5-187e-45d5-b3d6-d4900879c966",
   "metadata": {},
   "outputs": [
    {
     "name": "stdout",
     "output_type": "stream",
     "text": [
      "Found r = 0.6416143711065059 in 2979 iterations\n"
     ]
    }
   ],
   "source": [
    "# Method 4: Monte Carlo\n",
    "a = 0.50\n",
    "b = 0.75\n",
    "iteration_count = 0\n",
    "while (1):\n",
    "    guess = random.uniform(a, b)\n",
    "    iteration_count += 1\n",
    "    if (abs(guess-r) < ERR_TOLERANCE):\n",
    "        print(\"Found r = {} in {} iterations\".format(guess, iteration_count))\n",
    "        break"
   ]
  },
  {
   "cell_type": "code",
   "execution_count": 7,
   "id": "93876af0-b51b-4064-9d00-2a138b46daa6",
   "metadata": {},
   "outputs": [
    {
     "name": "stdout",
     "output_type": "stream",
     "text": [
      "t = 6, P_4(t = 6) = 452.0\n",
      "t = 3, y = 397.0\n"
     ]
    }
   ],
   "source": [
    "# Problem 1.2.1 using Lagrange Interpolation\n",
    "\n",
    "ts = [1, 2, 3, 4, 5]\n",
    "ys = [412, 407, 397, 398, 417]\n",
    "coefficients = []\n",
    "    \n",
    "def interp(t):\n",
    "    y = 0\n",
    "    for i in range(len(ys)):\n",
    "        L = 1\n",
    "        for j in range(len(ys)):\n",
    "            if (i != j):\n",
    "                L *= (t - ts[j]) / (ts[i] - ts[j])\n",
    "\n",
    "        y += ys[i] * L\n",
    "\n",
    "    return y\n",
    "\n",
    "print(\"t = 6, P_4(t = 6) = {}\".format(interp(6)))\n",
    "print(\"t = 3, y = {}\".format(interp(3)))"
   ]
  },
  {
   "cell_type": "code",
   "execution_count": 14,
   "id": "b8d1e255-fcca-4c9c-88c1-a448ab373582",
   "metadata": {},
   "outputs": [
    {
     "name": "stdout",
     "output_type": "stream",
     "text": [
      "Q_2(t=6) = 435.9999999999975\n"
     ]
    }
   ],
   "source": [
    "# Problem 1.2.2: Least Square Curve Fitting\n",
    "\n",
    "# a0 + a1t + a2t^2 = Q(t)\n",
    "# a0 + a1(1) + a2(1) = 412\n",
    "# a0 + a1(2) + a2(4) = 407\n",
    "# a0 + a1(3) + a2(9) = 397\n",
    "# a0 + a1(4) + a2(16) = 398\n",
    "# a0 + a1(5) + a2(25) = 417\n",
    "\n",
    "A = [[1, 1, 1],\n",
    "     [1, 2, 4],\n",
    "     [1, 3, 9],\n",
    "     [1, 4, 16],\n",
    "     [1, 5, 25]]\n",
    "\n",
    "A_t = np.transpose(A)\n",
    "\n",
    "b = [412, 407, 397, 398, 417]\n",
    "\n",
    "a = np.linalg.solve(np.matmul(A_t, A), np.matmul(A_t, b))\n",
    "\n",
    "def Q(t):\n",
    "    return a[0] + a[1]*t + a[2] * math.pow(t, 2)\n",
    "\n",
    "\n",
    "print(\"Q_2(t=6) = {}\".format(Q(6)))"
   ]
  },
  {
   "cell_type": "code",
   "execution_count": null,
   "id": "ef991be0-7136-40b6-8d7f-46c6e487c119",
   "metadata": {},
   "outputs": [],
   "source": []
  }
 ],
 "metadata": {
  "kernelspec": {
   "display_name": "Python 3 (ipykernel)",
   "language": "python",
   "name": "python3"
  },
  "language_info": {
   "codemirror_mode": {
    "name": "ipython",
    "version": 3
   },
   "file_extension": ".py",
   "mimetype": "text/x-python",
   "name": "python",
   "nbconvert_exporter": "python",
   "pygments_lexer": "ipython3",
   "version": "3.8.10"
  }
 },
 "nbformat": 4,
 "nbformat_minor": 5
}
